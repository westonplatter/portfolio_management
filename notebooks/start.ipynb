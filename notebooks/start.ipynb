{
 "cells": [
  {
   "cell_type": "code",
   "execution_count": 108,
   "id": "2aa67c77",
   "metadata": {},
   "outputs": [],
   "source": [
    "from datetime import datetime\n",
    "import glob\n",
    "import numpy as np\n",
    "import pandas as pd\n",
    "from pydantic import BaseModel\n",
    "from python_graphql_client import GraphqlClient\n",
    "from textwrap import dedent\n",
    "from typing import Dict, Optional\n",
    "\n",
    "import import_ipynb"
   ]
  },
  {
   "cell_type": "code",
   "execution_count": 55,
   "id": "ac0651d1",
   "metadata": {},
   "outputs": [],
   "source": [
    "GRAPHQL_ENDPOINT = \"http://localhost:8000/ingest/graphql\"\n",
    "\n",
    "client = GraphqlClient(endpoint=GRAPHQL_ENDPOINT)"
   ]
  },
  {
   "cell_type": "code",
   "execution_count": 56,
   "id": "bd865d9c",
   "metadata": {},
   "outputs": [],
   "source": [
    "class BaseMutation(BaseModel):\n",
    "    def gen_variables(self):\n",
    "        return self.dict()\n",
    "\n",
    "    def execute(self, client):\n",
    "        query = self.gen_mutation()\n",
    "        variables = self.gen_variables()\n",
    "        return client.execute(query=query, variables=variables)\n",
    "\n",
    "\n",
    "class BaseQuery(BaseModel):\n",
    "    def gen_variables(self) -> Dict:\n",
    "        return {}\n",
    "\n",
    "    def execute(self, client):\n",
    "        query = self.gen_query()\n",
    "        variables = self.gen_variables()\n",
    "        response = client.execute(query=query, variables=variables)\n",
    "        return response[\"data\"][self.query_name]"
   ]
  },
  {
   "cell_type": "code",
   "execution_count": 84,
   "id": "f3cd378f",
   "metadata": {},
   "outputs": [],
   "source": [
    "class GetTradesByAccountId(BaseQuery):\n",
    "    accountId: str\n",
    "        \n",
    "    @property\n",
    "    def query_name(self):\n",
    "        return \"tradesByAccountId\"\n",
    "    \n",
    "    def gen_variables(self) -> Dict:\n",
    "        return dict(accountId=self.accountId)\n",
    "    \n",
    "    def gen_query(self) -> str:\n",
    "        return dedent(\"\"\"\n",
    "        query x ($accountId: String!, $limit: Int) {\n",
    "            tradesByAccountId(accountId: $accountId, limit: $limit) {\n",
    "                id,\n",
    "                accountId,\n",
    "                fifoPnlRealized,\n",
    "                transactionId,\n",
    "                executedAt,\n",
    "                groupSet { id, name }\n",
    "            }\n",
    "        }\n",
    "        \"\"\")"
   ]
  },
  {
   "cell_type": "code",
   "execution_count": 85,
   "id": "0af50070",
   "metadata": {},
   "outputs": [],
   "source": [
    "x = GetTradesByAccountId(accountId=\"U2888710\", limit=100000000)\n",
    "trades = x.execute(client)\n",
    "for x in trades:\n",
    "    x[\"groups\"] = [xx[\"name\"] for xx in x[\"groupSet\"]]\n",
    "    if len(x[\"groups\"]) == 1:\n",
    "        x[\"groups\"] = x[\"groups\"][0]"
   ]
  },
  {
   "cell_type": "code",
   "execution_count": 109,
   "id": "d746b77e",
   "metadata": {},
   "outputs": [],
   "source": [
    "df = pd.DataFrame(trades)\n",
    "df.executedAt = pd.to_datetime(df.executedAt)\n",
    "df = df[ df[\"groups\"].str.len() > 0 ]"
   ]
  },
  {
   "cell_type": "code",
   "execution_count": 110,
   "id": "16352417",
   "metadata": {},
   "outputs": [
    {
     "data": {
      "application/vnd.jupyter.widget-view+json": {
       "model_id": "f808625cc67c4660b4545e0d5b86248a",
       "version_major": 2,
       "version_minor": 0
      }
     },
     "metadata": {},
     "output_type": "display_data"
    }
   ],
   "source": [
    "df.tail()"
   ]
  },
  {
   "cell_type": "code",
   "execution_count": null,
   "id": "29678e93",
   "metadata": {},
   "outputs": [],
   "source": [
    "# @TODO\n",
    "# \n",
    "# At the portfolio level, what was the Portfolio Theta daily/weekly/monthly?\n",
    "# At the group level, what was the Portfolio Theta daily/weekly/monthly?\n",
    "# \n",
    "# Create a plot of the cashflows\n",
    "# \n",
    "# How much did small trades benefit year end numbers?\n",
    "# \n",
    "# What's the skew and convexity?\n",
    "# \n",
    "# What's the covariance matrix between the top X groups?\n",
    "# How did that change over the year?\n",
    "# What's healthy - where are we headed?"
   ]
  }
 ],
 "metadata": {
  "kernelspec": {
   "display_name": "jhi",
   "language": "python",
   "name": "jhi"
  },
  "language_info": {
   "codemirror_mode": {
    "name": "ipython",
    "version": 3
   },
   "file_extension": ".py",
   "mimetype": "text/x-python",
   "name": "python",
   "nbconvert_exporter": "python",
   "pygments_lexer": "ipython3",
   "version": "3.7.11"
  }
 },
 "nbformat": 4,
 "nbformat_minor": 5
}
